{
 "cells": [
  {
   "cell_type": "markdown",
   "metadata": {},
   "source": [
    "## Model Order Selection for Neural Data"
   ]
  },
  {
   "cell_type": "markdown",
   "metadata": {},
   "source": [
    "## Loading the data\n",
    "\n",
    "The data is from neural recordings described in:\n",
    "\n",
    "<a href=\"http://jn.physiology.org/content/106/2/764.short\">\n",
    "Stevenson, Ian H., et al. \"Statistical assessment of the stability of neural movement representations.\" Journal of neurophysiology 106.2 (2011): 764-774</a> \n",
    "\n",
    "A simplified version was put together by UPenn: \n",
    "[Repository](https://github.com/KordingLab/Neural_Decoding) and \n",
    "[Dropbox](https://www.dropbox.com/sh/n4924ipcfjqc0t6/AADOv9JYMUBK1tlg9P71gSSra/example_data_s1.pickle?dl=0)\n",
    "\n",
    "The goal of the experiment is to try to *read the monkey's brain*:  That is, predict the hand motion from the neural signals from the motor cortex."
   ]
  },
  {
   "cell_type": "code",
   "execution_count": 1,
   "metadata": {},
   "outputs": [],
   "source": [
    "import numpy as np\n",
    "import matplotlib.pyplot as plt\n",
    "import pickle\n",
    "\n",
    "from sklearn.linear_model import LinearRegression\n",
    "from sklearn.metrics import r2_score"
   ]
  },
  {
   "cell_type": "code",
   "execution_count": 2,
   "metadata": {},
   "outputs": [],
   "source": [
    "import requests\n",
    "from tqdm import tqdm, tqdm_notebook\n",
    "from urllib.request import urlopen\n",
    "import os\n",
    "\n",
    "def download_from_url(url, dst):\n",
    "    \"\"\"\n",
    "    @param: url to download file\n",
    "    @param: dst place to put the file\n",
    "    \"\"\"\n",
    "    file_size = int(urlopen(url).info().get('Content-Length', -1))\n",
    "    first_byte = 0\n",
    "    header = {\"Range\": \"bytes=%s\" % (file_size)}\n",
    "    pbar = tqdm_notebook(\n",
    "        total=file_size, initial=first_byte,\n",
    "        unit='B', unit_scale=True, desc=dst)\n",
    "    req = requests.get(url, headers=header, stream=True)\n",
    "    with(open(dst, 'wb')) as f:\n",
    "        for chunk in req.iter_content(chunk_size=1024):\n",
    "            if chunk:\n",
    "                f.write(chunk)\n",
    "                pbar.update(1024)\n",
    "    pbar.close()\n",
    "    return file_size"
   ]
  },
  {
   "cell_type": "code",
   "execution_count": 3,
   "metadata": {},
   "outputs": [
    {
     "name": "stdout",
     "output_type": "stream",
     "text": [
      "File example_data_s1.pickle is already downloaded\n"
     ]
    }
   ],
   "source": [
    "import os\n",
    "fn_src = 'https://www.dropbox.com/sh/n4924ipcfjqc0t6/AADOv9JYMUBK1tlg9P71gSSra/example_data_s1.pickle?dl=1'\n",
    "fn_dst = 'example_data_s1.pickle'\n",
    "\n",
    "if os.path.isfile(fn_dst):\n",
    "    print('File %s is already downloaded' % fn_dst)\n",
    "else:\n",
    "    download_from_url(fn_src, fn_dst)"
   ]
  },
  {
   "cell_type": "markdown",
   "metadata": {},
   "source": [
    "The file is a *pickle* data structure, which is a package to serialize python objects into data files. "
   ]
  },
  {
   "cell_type": "code",
   "execution_count": 4,
   "metadata": {},
   "outputs": [],
   "source": [
    "with open('example_data_s1.pickle', 'rb') as fp:\n",
    "    X,y = pickle.load(fp)"
   ]
  },
  {
   "cell_type": "markdown",
   "metadata": {},
   "source": [
    "The matrix `X` is matrix of spike counts where `X[i,j]` is the number of spikes from neuron `j` in time bin `i`.\n",
    "The matrix `y` has two columns:\n",
    "* `y[i,0] = ` velocity of the monkey's hand in the x-direction\n",
    "* `y[i,1] = ` velocity of the monkey's hand in the y-direction \n",
    "\n",
    "Each time bin represent `tsamp=0.05` seconds of time. "
   ]
  },
  {
   "cell_type": "code",
   "execution_count": 5,
   "metadata": {},
   "outputs": [
    {
     "name": "stdout",
     "output_type": "stream",
     "text": [
      "Number of neurons = 52\n",
      "Number of time samples = 61339\n",
      "Number of outputs = 2\n",
      "Total time (secs) = 3066.950000\n"
     ]
    }
   ],
   "source": [
    "tsamp = 0.05  # sampling time in seconds\n",
    "\n",
    "nt, nneuron = X.shape\n",
    "nout = y.shape[1]\n",
    "ttotal = nt*tsamp\n",
    "\n",
    "print('Number of neurons = %d' % nneuron)\n",
    "print('Number of time samples = %d' % nt)\n",
    "print('Number of outputs = %d' % nout)\n",
    "print('Total time (secs) = %f' % ttotal)"
   ]
  },
  {
   "cell_type": "markdown",
   "metadata": {},
   "source": [
    "## Fitting a Memoryless Linear Model\n",
    "\n",
    "Using a simple linear regression model to fit the data."
   ]
  },
  {
   "cell_type": "code",
   "execution_count": 6,
   "metadata": {},
   "outputs": [],
   "source": [
    "from sklearn.model_selection import train_test_split\n",
    "\n",
    "Xtr, Xts, ytr, yts = train_test_split(X, y, test_size=0.33)"
   ]
  },
  {
   "cell_type": "code",
   "execution_count": 7,
   "metadata": {},
   "outputs": [
    {
     "name": "stdout",
     "output_type": "stream",
     "text": [
      "0.46562333447569565\n"
     ]
    }
   ],
   "source": [
    "regr = LinearRegression()\n",
    "\n",
    "# Fit the model\n",
    "regr.fit(Xtr,ytr)\n",
    "\n",
    "# Predict the output on the test data\n",
    "yhat = regr.predict(Xts)\n",
    "\n",
    "rsq = r2_score(yts, yhat)\n",
    "print(rsq)"
   ]
  },
  {
   "cell_type": "markdown",
   "metadata": {},
   "source": [
    "Plot the predicted vs. true values.  In plot `i=0,1`, plot `yhat[:,i]` vs. `yts[:,i]` with a scatter plot."
   ]
  },
  {
   "cell_type": "code",
   "execution_count": 8,
   "metadata": {},
   "outputs": [
    {
     "data": {
      "image/png": "[encoded data removed]",
      "text/plain": [
       "<Figure size 720x360 with 2 Axes>"
      ]
     },
     "metadata": {
      "needs_background": "light"
     },
     "output_type": "display_data"
    }
   ],
   "source": [
    "plt.figure(figsize=(10,5))\n",
    "for i in range(nout):\n",
    "    plt.subplot(1,nout,i+1)\n",
    "    plt.plot(yts[:,i],yhat[:,i],'o')\n",
    "    plt.grid()\n",
    "    plt.xlabel('True')\n",
    "    plt.ylabel('Predicted')"
   ]
  },
  {
   "cell_type": "markdown",
   "metadata": {},
   "source": [
    "## Fitting Models with Delay\n",
    "\n",
    "Using the delayed version of the features to improve the model accuracy. \n",
    "\n",
    "    yhat[i,k] = \\sum_{j=0}^{p-1} X[i,j]*w[j,k] + b[k]\n",
    "    \n",
    "`p` is the number of features \n",
    "`w[j,k]` is a matrix of coefficients\n",
    "\n",
    "In this model,  `yhat[i,:]` at time `i` was only dependent on the inputs  `X[i,:]` at time `i`.  In signal processing, this is called a *memoryless* model.  However, in many physical systems, such as those that arise in neuroscience, there is a delay between the inputs `X[i,:]` and the outputs `y[i]`.  For such cases, we can use a model of the form,\n",
    "\n",
    "    yhat[i+d,k] = \\sum_{k=0}^d  \\sum_{j=0}^{p-1} \\sum_{m=0}^d X[i+m,j]*W[j,m,k] + b[k]\n",
    "    \n",
    "where `W` is a 3-dim array of coefficients where:\n",
    "\n",
    "    W[j,m,k] is the influence of the input X[i+m,j] onto output y[i+d,k]\n",
    "\n",
    "\n",
    "In signal processing, this model is called an *FIR* filter and `W[j,:,k]` is the *impulse response* from the `j`-th input to the `k`-th output.  The point is that the output at time `i+d` depends on the inputs at times `i,i+1,...,i+d`.  Hence, it depends on the last `d+1` time steps, not just the most recent time.\n",
    "\n",
    "To translate this into a linear regression problem, the following function creates a new feature and target matrix where:\n",
    "\n",
    "    Xdly[i,:] has the rows X[i,:], X[i++1,:], ..., X[i+dly,:]\n",
    "    ydly[i,:] = y[i+dly,:]\n",
    "    \n",
    "Thus, `Xdly[i,:]` contains all the delayed fetaures for the target `yhat`.  Note that if `X` is `n x p` then `Xdly` will be `n-dly x (dly+1)*p`.  \n"
   ]
  },
  {
   "cell_type": "code",
   "execution_count": 9,
   "metadata": {},
   "outputs": [],
   "source": [
    "def create_dly_data(X,y,dly):\n",
    "    \"\"\"\n",
    "    Creates delayed data\n",
    "    \"\"\"    \n",
    "\n",
    "    n,p = X.shape\n",
    "    Xdly = np.zeros((n-dly,(dly+1)*p))\n",
    "    for i in range(dly+1):\n",
    "        Xdly[:,i*p:(i+1)*p] = X[dly-i:n-i,:]\n",
    "    ydly = y[dly:]\n",
    "    \n",
    "    return Xdly, ydly\n"
   ]
  },
  {
   "cell_type": "markdown",
   "metadata": {},
   "source": [
    "Now fit an linear delayed model with `dly=6` additional delay lags. "
   ]
  },
  {
   "cell_type": "code",
   "execution_count": 10,
   "metadata": {},
   "outputs": [
    {
     "name": "stdout",
     "output_type": "stream",
     "text": [
      "0.6878043682433503\n"
     ]
    }
   ],
   "source": [
    "dly = 6\n",
    "Xdly, ydly = create_dly_data(X,y,dly)\n",
    "\n",
    "Xtr, Xts, ytr, yts = train_test_split(Xdly, ydly, test_size=0.33)\n",
    "\n",
    "regr = LinearRegression()\n",
    "\n",
    "# Fit the model\n",
    "regr.fit(Xtr,ytr)\n",
    "\n",
    "# Measure the new r^2 score\n",
    "yhat = regr.predict(Xts)\n",
    "rsq = r2_score(yts, yhat)\n",
    "print(rsq)\n",
    "    "
   ]
  },
  {
   "cell_type": "markdown",
   "metadata": {},
   "source": [
    "We can see that the $R^2$ score for the delayed model is higher than the previous one."
   ]
  },
  {
   "cell_type": "code",
   "execution_count": 11,
   "metadata": {},
   "outputs": [
    {
     "data": {
      "image/png": "[encoded data removed]",
      "text/plain": [
       "<Figure size 720x360 with 2 Axes>"
      ]
     },
     "metadata": {
      "needs_background": "light"
     },
     "output_type": "display_data"
    }
   ],
   "source": [
    "plt.figure(figsize=(10,5))\n",
    "for i in range(nout):\n",
    "    plt.subplot(1,nout,i+1)\n",
    "    plt.plot(yts[:,i],yhat[:,i],'o')\n",
    "    plt.grid()\n",
    "    plt.xlabel('True')\n",
    "    plt.ylabel('Predicted')"
   ]
  },
  {
   "cell_type": "markdown",
   "metadata": {},
   "source": [
    "*Note*:  Fitting an FIR model with the above method is very inefficient when the number of delays, `dly` is large.  In the above method, the number of columns of `X` grows from `p` to `(dly+1)*p` and the computations become expensive with `dly` is large.  \n",
    "\n",
    "\n",
    "**A much faster way to fit such models is by using gradient descent in convolutional neural networks.**"
   ]
  },
  {
   "cell_type": "markdown",
   "metadata": {},
   "source": [
    "## Selecting the Optimal Delay via Model Order Selection\n",
    "\n",
    "Instead of fixing a delay `dly=6`, we can select the optimal delay using model order selection.  "
   ]
  },
  {
   "cell_type": "code",
   "execution_count": 12,
   "metadata": {},
   "outputs": [],
   "source": [
    "nred = 6000\n",
    "\n",
    "Xred = X[:nred]\n",
    "yred = y[:nred]"
   ]
  },
  {
   "cell_type": "markdown",
   "metadata": {},
   "source": [
    "Measuring for model orders up to `dmax=15`.  \n",
    "\n",
    "Creating a delayed matrix data, `Xdly,ydly` from the reduced data, `Xred,yred` using `create_dly_data` with `dly=dmax`."
   ]
  },
  {
   "cell_type": "code",
   "execution_count": 13,
   "metadata": {},
   "outputs": [],
   "source": [
    "dmax = 15\n",
    "\n",
    "Xdly, ydly = create_dly_data(Xred,yred,dmax)"
   ]
  },
  {
   "cell_type": "markdown",
   "metadata": {},
   "source": [
    "Using K-fold cross validation with `nfold=5` and values of delays `dtest = [0,1,...,dmax]`."
   ]
  },
  {
   "cell_type": "code",
   "execution_count": 14,
   "metadata": {},
   "outputs": [
    {
     "data": {
      "application/vnd.jupyter.widget-view+json": {
       "model_id": "3d8c0725bb55452d9849a4952f860986",
       "version_major": 2,
       "version_minor": 0
      },
      "text/plain": [
       "HBox(children=(IntProgress(value=0, description='Model order test', max=80, style=ProgressStyle(description_wi…"
      ]
     },
     "metadata": {},
     "output_type": "display_data"
    },
    {
     "name": "stdout",
     "output_type": "stream",
     "text": [
      "\n"
     ]
    }
   ],
   "source": [
    "import  sklearn.model_selection \n",
    "\n",
    "from tqdm import tqdm_notebook\n",
    "\n",
    "# Number of folds\n",
    "nfold = 5\n",
    "\n",
    "kf = sklearn.model_selection.KFold(n_splits=nfold,shuffle=True)\n",
    "\n",
    "dtest = np.arange(dmax+1)\n",
    "nd = len(dtest)\n",
    "\n",
    "Rsq = np.zeros((nd,nfold))\n",
    "Rss = np.zeros((nd,nfold))\n",
    "\n",
    "pbar = tqdm_notebook(\n",
    "    total=nfold*nd, initial=0,\n",
    "    unit='folds', unit_divisor=nd, desc='Model order test')\n",
    "\n",
    "for isplit, Ind in enumerate(kf.split(Xdly)):\n",
    "    \n",
    "    Itr, Its = Ind        \n",
    "\n",
    "    for it, d in enumerate(dtest):\n",
    "        \n",
    "        Xdly1 = Xdly[:,:(d+1)*nneuron]\n",
    "\n",
    "        Xtr = Xdly1[Itr,:]\n",
    "        ytr = ydly[Itr]\n",
    "        Xts = Xdly1[Its,:]\n",
    "        yts = ydly[Its]\n",
    "\n",
    "        regr.fit(Xtr,ytr)\n",
    "\n",
    "        yhat = regr.predict(Xts)\n",
    "        Rsq[it,isplit] = r2_score(yts, yhat)   \n",
    "        Rss[it,isplit] = np.mean((yts-yhat)**2)  \n",
    "        \n",
    "        pbar.update(1)\n",
    "pbar.close()"
   ]
  },
  {
   "cell_type": "code",
   "execution_count": 15,
   "metadata": {},
   "outputs": [
    {
     "data": {
      "text/plain": [
       "Text(0, 0.5, 'Test RSS')"
      ]
     },
     "execution_count": 15,
     "metadata": {},
     "output_type": "execute_result"
    },
    {
     "data": {
      "image/png": "[encoded data removed]",
      "text/plain": [
       "<Figure size 864x360 with 2 Axes>"
      ]
     },
     "metadata": {
      "needs_background": "light"
     },
     "output_type": "display_data"
    }
   ],
   "source": [
    "rsq_mean = np.mean(Rsq,axis=1)\n",
    "rsq_se = np.std(Rsq,axis=1)/np.sqrt(nfold-1)\n",
    "\n",
    "rss_mean = np.mean(Rss,axis=1)\n",
    "rss_se = np.std(Rss,axis=1)/np.sqrt(nfold-1)\n",
    "\n",
    "plt.figure(figsize=(12,5))\n",
    "plt.subplot(1,2,1)\n",
    "plt.errorbar(dtest, rsq_mean, rsq_se)\n",
    "plt.grid()\n",
    "plt.xlabel('Model order d')\n",
    "plt.ylabel('Test R^2')\n",
    "\n",
    "plt.subplot(1,2,2)\n",
    "plt.errorbar(dtest, rss_mean, rss_se)\n",
    "plt.grid()\n",
    "plt.xlabel('Model order d')\n",
    "plt.ylabel('Test RSS')"
   ]
  },
  {
   "cell_type": "markdown",
   "metadata": {},
   "source": [
    "Finding the optimal order `d` with the normal rule (i.e. highest test `R^2`)"
   ]
  },
  {
   "cell_type": "code",
   "execution_count": 16,
   "metadata": {},
   "outputs": [
    {
     "name": "stdout",
     "output_type": "stream",
     "text": [
      "Optimal model order with normal rule = 9\n",
      "R^2 = 0.672668\n"
     ]
    }
   ],
   "source": [
    "iopt = np.argmax(rsq_mean)\n",
    "dopt = dtest[iopt]\n",
    "print('Optimal model order with normal rule = %d' % dopt)\n",
    "print('R^2 = %f' % rsq_mean[iopt])"
   ]
  },
  {
   "cell_type": "markdown",
   "metadata": {},
   "source": [
    "Finding the optimal model order via the one **Standard Error** rule (i.e. highest test `R^2` within on SE)"
   ]
  },
  {
   "cell_type": "code",
   "execution_count": 17,
   "metadata": {},
   "outputs": [
    {
     "name": "stdout",
     "output_type": "stream",
     "text": [
      "Optimal model order with one SE rule = 7\n",
      "R^2 = 0.670535\n"
     ]
    }
   ],
   "source": [
    "rsq_tgt = rsq_mean[iopt] - rsq_se[iopt]\n",
    "I = np.where(rsq_mean >= rsq_tgt)[0]\n",
    "iopt_one_se = I[0]\n",
    "dopt_one_se = dtest[iopt_one_se]\n",
    "print('Optimal model order with one SE rule = %d' % dopt_one_se)\n",
    "print('R^2 = %f' % rsq_mean[iopt_one_se])"
   ]
  },
  {
   "cell_type": "code",
   "execution_count": null,
   "metadata": {},
   "outputs": [],
   "source": []
  }
 ],
 "metadata": {
  "kernelspec": {
   "display_name": "Python 3",
   "language": "python",
   "name": "python3"
  },
  "language_info": {
   "codemirror_mode": {
    "name": "ipython",
    "version": 3
   },
   "file_extension": ".py",
   "mimetype": "text/x-python",
   "name": "python",
   "nbconvert_exporter": "python",
   "pygments_lexer": "ipython3",
   "version": "3.6.4"
  }
 },
 "nbformat": 4,
 "nbformat_minor": 2
}
