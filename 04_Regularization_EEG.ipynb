{
 "cells": [
  {
   "cell_type": "markdown",
   "metadata": {},
   "source": [
    "# Source Localization for EEG data\n",
    "\n",
    "Using LASSO regression on a real EEG dataset to determine the brain region that is active under an auditory stimulus.\n",
    "\n",
    "We are using time-series data here. "
   ]
  },
  {
   "cell_type": "code",
   "execution_count": 6,
   "metadata": {},
   "outputs": [],
   "source": [
    "import numpy as np\n",
    "import matplotlib.pyplot as plt\n",
    "import pickle\n",
    "\n",
    "from sklearn.linear_model import Lasso, Ridge, ElasticNet\n",
    "from sklearn.metrics import r2_score\n",
    "from sklearn.model_selection import train_test_split"
   ]
  },
  {
   "cell_type": "markdown",
   "metadata": {},
   "source": [
    "## Load the Data\n",
    "\n",
    "The data in this lab is taken from one of the sample datasets in the [MNE website](https://martinos.org/mne/stable/index.html). "
   ]
  },
  {
   "cell_type": "code",
   "execution_count": 7,
   "metadata": {},
   "outputs": [
    {
     "name": "stdout",
     "output_type": "stream",
     "text": [
      "File eeg_dat.p is already downloaded\n"
     ]
    }
   ],
   "source": [
    "fn_src ='https://drive.google.com/uc?export=download&id=1RzQpKONOcXSMxH2ZzOI4iVMiTgD6ttSl'\n",
    "fn_dst ='eeg_dat.p'\n",
    "\n",
    "import os\n",
    "from six.moves import urllib\n",
    "\n",
    "if os.path.isfile(fn_dst):\n",
    "    print('File %s is already downloaded' % fn_dst)\n",
    "else:        \n",
    "    print('Fetching file %s [53MB].  This may take a minute..' % fn_dst)\n",
    "    urllib.request.urlretrieve(fn_src, fn_dst)\n",
    "    print('File %s downloaded' % fn_dst)"
   ]
  },
  {
   "cell_type": "markdown",
   "metadata": {},
   "source": [
    "Now run the following command which will get the data from the `pickle` file."
   ]
  },
  {
   "cell_type": "code",
   "execution_count": 8,
   "metadata": {},
   "outputs": [],
   "source": [
    "import pickle\n",
    "fn = 'eeg_dat.p'\n",
    "with open(fn, 'rb') as fp:\n",
    "    [X,Y] = pickle.load(fp)"
   ]
  },
  {
   "cell_type": "markdown",
   "metadata": {},
   "source": [
    "To understand the data, there are three key variables:\n",
    "* `nt`    = number of time steps that we measure data\n",
    "* `nchan` = number of channels (i.e. electrodes) measured in each time step\n",
    "* `ncur`  = number of currents in the brain that we want to estimate.  \n",
    "\n",
    "Each current comes from one brain region (called a *voxel*) in either the `x`, `y` or `z` direction.  So,\n",
    "\n",
    "    nvoxels = ncur / 3\n",
    "    \n",
    "The components of the `X` and `Y` matrices are:\n",
    "*  `Y[i,k]` = electric field measurement on channel `i` at time `k`\n",
    "*  `X[i,j]` = sensitivity of channel `i` to current `j`."
   ]
  },
  {
   "cell_type": "code",
   "execution_count": 9,
   "metadata": {},
   "outputs": [
    {
     "name": "stdout",
     "output_type": "stream",
     "text": [
      "Number times   = 85\n",
      "Number currents = 22494\n",
      "Number voxels = 7498\n",
      "Number channels = 305\n"
     ]
    }
   ],
   "source": [
    "nchan, ncur = X.shape\n",
    "nchan, nt = Y.shape\n",
    "nvoxels = ncur // 3\n",
    "print('Number times   = %d' % nt)\n",
    "print('Number currents = %d' % ncur)\n",
    "print('Number voxels = %d' % nvoxels)\n",
    "print('Number channels = %d' % nchan)"
   ]
  },
  {
   "cell_type": "markdown",
   "metadata": {},
   "source": [
    "## Ridge Regression\n",
    "\n",
    "Estimate the currents in the brain from the measurements `Y`.  One simple linear model is:\n",
    "\n",
    "    Y[i,k]  = \\sum_j X[i,j]*W[j,k]+ b[k]\n",
    "\n",
    "where `W[j,k]` is the value of current `j` at time `k` and `b[k]` is a bias.  We can solve for the current matrix `W` via linear regression.  \n",
    "\n",
    "*  There are `nt x ncur` unknowns in `W`\n",
    "*  There are only `nt x nchan` measurements in `Y`.\n",
    "\n",
    "In this case, we have:\n",
    "\n",
    "    number of measurements  << number of unknowns\n",
    "    \n",
    "We need to use regularization in these circumstances."
   ]
  },
  {
   "cell_type": "code",
   "execution_count": 10,
   "metadata": {},
   "outputs": [],
   "source": [
    "Xtr,Xts,Ytr,Yts = train_test_split(X,Y,test_size=0.33)"
   ]
  },
  {
   "cell_type": "code",
   "execution_count": 11,
   "metadata": {},
   "outputs": [
    {
     "data": {
      "text/plain": [
       "Ridge(alpha=1, copy_X=True, fit_intercept=True, max_iter=None,\n",
       "   normalize=False, random_state=None, solver='auto', tol=0.001)"
      ]
     },
     "execution_count": 11,
     "metadata": {},
     "output_type": "execute_result"
    }
   ],
   "source": [
    "regr = Ridge(alpha=1)\n",
    "regr.fit(Xtr,Ytr)"
   ]
  },
  {
   "cell_type": "code",
   "execution_count": 12,
   "metadata": {},
   "outputs": [
    {
     "name": "stdout",
     "output_type": "stream",
     "text": [
      "R^2 training =  0.6120\n",
      "R^2 test     =  0.1264\n"
     ]
    }
   ],
   "source": [
    "Yhat = regr.predict(Xtr)\n",
    "rsq_tr = r2_score(Ytr, Yhat)\n",
    "print('R^2 training = %7.4f' % rsq_tr)\n",
    "\n",
    "\n",
    "Yhat = regr.predict(Xts)\n",
    "rsq_ts = r2_score(Yts, Yhat)\n",
    "print('R^2 test     = %7.4f' % rsq_ts)"
   ]
  },
  {
   "cell_type": "markdown",
   "metadata": {},
   "source": [
    "We can see that `R^2` value is large for the training data, it is very low for the test data.  This suggest that even with regularization, **the model is over-fitting the data**."
   ]
  },
  {
   "cell_type": "markdown",
   "metadata": {},
   "source": [
    "Different `R^2` score using different values of `alpha`.  \n",
    "\n",
    "Use cross-validation to measure the test `R^2` for 20 `alpha` values logarithmically spaced from `10^{-2}` to `10^{2}`"
   ]
  },
  {
   "cell_type": "code",
   "execution_count": 13,
   "metadata": {},
   "outputs": [
    {
     "name": "stdout",
     "output_type": "stream",
     "text": [
      "alpha=  1.0000e-02 rsq=-0.2913\n",
      "alpha=  1.6238e-02 rsq=-0.1926\n",
      "alpha=  2.6367e-02 rsq=-0.1064\n",
      "alpha=  4.2813e-02 rsq=-0.0330\n",
      "alpha=  6.9519e-02 rsq= 0.0271\n",
      "alpha=  1.1288e-01 rsq= 0.0740\n",
      "alpha=  1.8330e-01 rsq= 0.1076\n",
      "alpha=  2.9764e-01 rsq= 0.1277\n",
      "alpha=  4.8329e-01 rsq= 0.1349\n",
      "alpha=  7.8476e-01 rsq= 0.1313\n",
      "alpha=  1.2743e+00 rsq= 0.1199\n",
      "alpha=  2.0691e+00 rsq= 0.1038\n",
      "alpha=  3.3598e+00 rsq= 0.0858\n",
      "alpha=  5.4556e+00 rsq= 0.0678\n",
      "alpha=  8.8587e+00 rsq= 0.0510\n",
      "alpha=  1.4384e+01 rsq= 0.0363\n",
      "alpha=  2.3357e+01 rsq= 0.0241\n",
      "alpha=  3.7927e+01 rsq= 0.0147\n",
      "alpha=  6.1585e+01 rsq= 0.0079\n",
      "alpha=  1.0000e+02 rsq= 0.0032\n"
     ]
    }
   ],
   "source": [
    "alphas = np.logspace(-2,2,20)\n",
    "rsq = []\n",
    "\n",
    "for a in alphas:\n",
    "    regr = Ridge(alpha=a)\n",
    "    regr.fit(Xtr,Ytr)\n",
    "    \n",
    "    Yhat = regr.predict(Xts)\n",
    "    rsqi = r2_score(Yts, Yhat)\n",
    "    rsq.append(rsqi)\n",
    "    \n",
    "    print('alpha=%12.4e rsq=%7.4f' % (a,rsqi))"
   ]
  },
  {
   "cell_type": "code",
   "execution_count": 14,
   "metadata": {},
   "outputs": [
    {
     "name": "stdout",
     "output_type": "stream",
     "text": [
      "Optimal R^2 =  0.1349\n"
     ]
    },
    {
     "data": {
      "image/png": "[encoded data removed]",
      "text/plain": [
       "<matplotlib.figure.Figure at 0x1a11102710>"
      ]
     },
     "metadata": {},
     "output_type": "display_data"
    }
   ],
   "source": [
    "rsq = np.array(rsq)\n",
    "plt.semilogx(alphas, rsq, 'o-')\n",
    "plt.grid()\n",
    "\n",
    "rsq_opt = np.max(rsq)\n",
    "print('Optimal R^2 = %7.4f' % rsq_opt)"
   ]
  },
  {
   "cell_type": "code",
   "execution_count": 15,
   "metadata": {},
   "outputs": [
    {
     "data": {
      "image/png": "[encoded data removed]",
      "text/plain": [
       "<matplotlib.figure.Figure at 0x1a2cfb9ef0>"
      ]
     },
     "metadata": {},
     "output_type": "display_data"
    }
   ],
   "source": [
    "im = np.argmax(rsq)\n",
    "aopt = alphas[im]\n",
    "\n",
    "regr = Ridge(alpha=aopt)\n",
    "regr.fit(Xtr,Ytr)\n",
    "\n",
    "W = regr.coef_.T\n",
    "Wrms = np.sqrt(np.sum(W**2, axis=1))\n",
    "\n",
    "plt.plot(Wrms)\n",
    "plt.grid()"
   ]
  },
  {
   "cell_type": "markdown",
   "metadata": {},
   "source": [
    "We can see that the vector `Wrms` is not sparse, that is the solution that is found with Ridge regression finds currents in all locations."
   ]
  },
  {
   "cell_type": "markdown",
   "metadata": {},
   "source": [
    "## LASSO Regression\n",
    "\n",
    "We can improve the estimate by imposing sparsity and can impose this constraint using LASSO regularization."
   ]
  },
  {
   "cell_type": "code",
   "execution_count": 16,
   "metadata": {},
   "outputs": [
    {
     "data": {
      "text/plain": [
       "Lasso(alpha=0.001, copy_X=True, fit_intercept=True, max_iter=100,\n",
       "   normalize=False, positive=False, precompute=False, random_state=None,\n",
       "   selection='cyclic', tol=0.01, warm_start=False)"
      ]
     },
     "execution_count": 16,
     "metadata": {},
     "output_type": "execute_result"
    }
   ],
   "source": [
    "regr = Lasso(alpha = 1e-3,max_iter=100,tol=0.01)\n",
    "regr.fit(Xtr,Ytr)"
   ]
  },
  {
   "cell_type": "code",
   "execution_count": 17,
   "metadata": {},
   "outputs": [
    {
     "name": "stdout",
     "output_type": "stream",
     "text": [
      "0.16861994512453912\n"
     ]
    }
   ],
   "source": [
    "Yhat = regr.predict(Xts)\n",
    "rsq = r2_score(Yts, Yhat)\n",
    "print(rsq)"
   ]
  },
  {
   "cell_type": "markdown",
   "metadata": {},
   "source": [
    "Which is a much better fit than with the Ridge regression solution.  "
   ]
  },
  {
   "cell_type": "markdown",
   "metadata": {},
   "source": [
    "We can now search for the optimal `alpha` using cross-validation."
   ]
  },
  {
   "cell_type": "code",
   "execution_count": 18,
   "metadata": {},
   "outputs": [
    {
     "name": "stdout",
     "output_type": "stream",
     "text": [
      "alpha =   1.0000e-04 rsq= 0.2493\n",
      "alpha =   1.7783e-04 rsq= 0.2983\n",
      "alpha =   3.1623e-04 rsq= 0.2944\n",
      "alpha =   5.6234e-04 rsq= 0.2525\n",
      "alpha =   1.0000e-03 rsq= 0.1686\n"
     ]
    }
   ],
   "source": [
    "alphas = np.logspace(-4,-3,5)\n",
    "rsq = []\n",
    "Ws = []\n",
    "\n",
    "for a in alphas:\n",
    "    \n",
    "    regr = Lasso(alpha =a, max_iter=100, tol=0.01)\n",
    "    regr.fit(Xtr,Ytr)\n",
    "    \n",
    "    Yhat = regr.predict(Xts)\n",
    "    \n",
    "    rsqi = r2_score(Yts, Yhat)\n",
    "    rsq.append(rsqi)\n",
    "    \n",
    "    Ws.append(regr.coef_.T)\n",
    "    \n",
    "    print('alpha = %12.4e rsq=%7.4f' % (a, rsqi))"
   ]
  },
  {
   "cell_type": "code",
   "execution_count": 19,
   "metadata": {},
   "outputs": [
    {
     "name": "stdout",
     "output_type": "stream",
     "text": [
      "Optimal test R^2 =  0.2983\n"
     ]
    },
    {
     "data": {
      "image/png": "[encoded data removed]",
      "text/plain": [
       "<matplotlib.figure.Figure at 0x1a2d199390>"
      ]
     },
     "metadata": {},
     "output_type": "display_data"
    }
   ],
   "source": [
    "rsq = np.array(rsq)\n",
    "plt.semilogx(alphas, rsq, 'o-')\n",
    "plt.grid()\n",
    "\n",
    "rsq_opt = np.max(rsq)\n",
    "print('Optimal test R^2 = %7.4f' % rsq_opt)"
   ]
  },
  {
   "cell_type": "code",
   "execution_count": 20,
   "metadata": {},
   "outputs": [
    {
     "data": {
      "image/png": "[encoded data removed]",
      "text/plain": [
       "<matplotlib.figure.Figure at 0x1a14caf940>"
      ]
     },
     "metadata": {},
     "output_type": "display_data"
    }
   ],
   "source": [
    "iopt = np.argmax(rsq)\n",
    "Wopt = Ws[iopt]\n",
    "Wrms = np.sqrt(np.sum(Wopt**2, axis=1))\n",
    "\n",
    "plt.plot(Wrms)\n",
    "plt.grid()"
   ]
  },
  {
   "cell_type": "markdown",
   "metadata": {},
   "source": [
    "As we can see, the current matrix `W` for the optimal `alpha` is much sparser!"
   ]
  },
  {
   "cell_type": "code",
   "execution_count": null,
   "metadata": {},
   "outputs": [],
   "source": []
  }
 ],
 "metadata": {
  "kernelspec": {
   "display_name": "Python 3",
   "language": "python",
   "name": "python3"
  },
  "language_info": {
   "codemirror_mode": {
    "name": "ipython",
    "version": 3
   },
   "file_extension": ".py",
   "mimetype": "text/x-python",
   "name": "python",
   "nbconvert_exporter": "python",
   "pygments_lexer": "ipython3",
   "version": "3.6.4"
  }
 },
 "nbformat": 4,
 "nbformat_minor": 2
}
